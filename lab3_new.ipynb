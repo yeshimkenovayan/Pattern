{
 "cells": [
  {
   "cell_type": "code",
   "execution_count": 1,
   "metadata": {},
   "outputs": [
    {
     "name": "stdout",
     "output_type": "stream",
     "text": [
      "Y\n",
      "-\n",
      "4\n",
      "5\n",
      "7\n",
      "1\n",
      "6\n",
      "2\n"
     ]
    }
   ],
   "source": [
    "from pyDatalog import pyDatalog\n",
    "import logging\n",
    "from pyDatalog import pyEngine\n",
    "pyEngine.Logging = False\n",
    "logging.basicConfig(level=logging.INFO)\n",
    "pyDatalog.create_terms('link, can_reach,X,Y,Z')\n",
    "+link(1,2)\n",
    "+link(2,3)\n",
    "+link(2,4)\n",
    "+link(2,5)\n",
    "+link(5,6)\n",
    "+link(6,7)\n",
    "+link(7,2)\n",
    "link(X,Y) <= link(Y,X)\n",
    "can_reach(X,Y) <= link(X,Y)\n",
    "can_reach(X,Y) <= link(X,Z) & can_reach(Z,Y) & (X!=Y)\n",
    "print (can_reach(Y,3))"
   ]
  },
  {
   "cell_type": "code",
   "execution_count": 2,
   "metadata": {},
   "outputs": [
    {
     "data": {
      "application/vnd.jupyter.widget-view+json": {
       "model_id": "377f491e681b4fdb8562df0c8d353136",
       "version_major": 2,
       "version_minor": 0
      },
      "text/plain": [
       "A Jupyter Widget"
      ]
     },
     "metadata": {},
     "output_type": "display_data"
    }
   ],
   "source": [
    "from sqlalchemy.ext.declarative import declarative_base\n",
    "from sqlalchemy import create_engine\n",
    "from sqlalchemy.orm import sessionmaker\n",
    "from sqlalchemy import Column, Integer, String, ForeignKey\n",
    "from ipywidgets import interact_manual\n",
    "\n",
    "# define a base class with SQLAlchemy and pyDatalog capabilities\n",
    "Base = declarative_base(cls=pyDatalog.Mixin, metaclass=pyDatalog.sqlMetaMixin)\n",
    "# create database in memory\n",
    "engine = create_engine('sqlite:///:memory:', echo=False)\n",
    "\n",
    "# open a session on a database, then associate it to the Base class\n",
    "Session = sessionmaker(bind=engine)\n",
    "session = Session()\n",
    "Base.session = session\n",
    "\n",
    "class Person(Base): # Employee inherits from the Base class\n",
    "    __tablename__ = 'person' # data are stored in the Employee table\n",
    "\n",
    "    name = Column(String, primary_key=True)\n",
    "#     manager_name = Column(String, ForeignKey('employee.name'))\n",
    "#     salary = Column(Integer)\n",
    "    def __init__(self, name): \n",
    "        # call the initialization method of the Mixin class\n",
    "        super(Person, self).__init__()\n",
    "        self.name = name\n",
    "#         self.manager = manager     # direct manager of the employee, or None\n",
    "#         self.salary = salary       # monthly salary of the employee\n",
    "    \n",
    "    def __repr__(self): # specifies how to display an Employee\n",
    "        return self.name\n",
    "    \n",
    "# now create the table\n",
    "Base.metadata.create_all(engine)\n",
    "pyDatalog.create_terms('married, bros, a, c, p, X, Y, Z, K')\n",
    "\n",
    "# Tywin = Person('Tywin')\n",
    "# Joanna = Person('Mary')\n",
    "# Tyrion = Person('Tyrion')\n",
    "# Jaime = Person('Jaime')\n",
    "# Cercei = Person('Cercei')\n",
    "# Tommen = Person('Tommen')\n",
    "# Myrcella = Person('Myrcella')\n",
    "# Joffrey = Person('Joffrey')\n",
    "\n",
    "# +p(Tywin, Tyrion)\n",
    "# +p(Tywin, Jaime)\n",
    "# +p(Tywin, Cercei)\n",
    "# +p(Joanna, Tyrion)\n",
    "# +p(Joanna, Jaime)\n",
    "# +p(Joanna, Cercei)\n",
    "# +p(Jaime, Tommen)\n",
    "# +p(Jaime, Myrcella)\n",
    "# +p(Jaime, Joffrey)\n",
    "# +p(Cercei, Tommen)\n",
    "# +p(Cercei, Myrcella)\n",
    "# +p(Cercei, Joffrey)\n",
    "\n",
    "married(X,Y) <= married(Y,X)\n",
    "a(X, Y) <= p(X, Y)\n",
    "a(X, Y) <= p(X, Z) & a(Z, Y)\n",
    "+p('parent', 'child')\n",
    "# p(X,Y) <= ~p(Y,X) & (X!=Y)\n",
    "\n",
    "\n",
    "bros(X, Y) <= p(Z, X) & p(Z, Y)\n",
    "# p(X, Y) <= c(Y, X) & (X != Y) & ~p(Y, X) & ~c(X, Y) & ~(p(Z, X) & p(Z, Y)) & ~(c(Z, X) & c(Z, Y))\n",
    "# c(X, Y) <= p(Y, X) & (X != Y) & ~c(Y, X) & ~p(X, Y) & ~(p(Z, X) & p(Z, Y)) & ~(c(Z, X) & c(Z, Y))\n",
    "married(X,Y) <= p(X,Z) & p(Y,Z) & (X!=Y) & ~bros(X, Y)# c(Z, X) & c(Z, Y) & (X != Y)\n",
    "\n",
    "persons = []\n",
    "def add_person(name):\n",
    "    for person in persons:\n",
    "        if person.name == name:\n",
    "            return person\n",
    "    print(\"Created \" + name)\n",
    "    result = Person(name)\n",
    "    persons.append(result)\n",
    "    return result\n",
    "\n",
    "@interact_manual\n",
    "def get_input(parent='', child=''):\n",
    "    person1 = add_person(parent)\n",
    "    person2 = add_person(child)\n",
    "    if person1 != person2 and not [item for item in p(X,Y) if item[0] == person2 and item[1] == person1] \\\n",
    "        and not [item for item in a(X,Y) if item[0] == person2 and item[1] == person1] \\\n",
    "        and not [item for item in a(X,Y) if item[0] == person1 and item[1] == person2] \\\n",
    "        and not [item for item in (p(Z,X) & p(Z,Y) & (X!=Y)) if item[1] == person1 and item[2] == person2]:\n",
    "        +p(person1, person2)\n",
    "#     print(p(X, Y))\n",
    "    print(married(X,Y))\n",
    "\n",
    "# + has_car(Mary)\n",
    "# + married(Mary,John)\n",
    "#print(has_car(X))\n",
    "\n",
    "# link(X,Y) <= link(Y,X)\n",
    "# can_reach(X,Y) <= link(X,Y)\n",
    "# can_reach(X,Y) <= link(X,Z) & can_reach(Z,Y) & (X!=Y)"
   ]
  },
  {
   "cell_type": "code",
   "execution_count": null,
   "metadata": {
    "collapsed": true
   },
   "outputs": [],
   "source": []
  }
 ],
 "metadata": {
  "kernelspec": {
   "display_name": "Python 3",
   "language": "python",
   "name": "python3"
  },
  "language_info": {
   "codemirror_mode": {
    "name": "ipython",
    "version": 3
   },
   "file_extension": ".py",
   "mimetype": "text/x-python",
   "name": "python",
   "nbconvert_exporter": "python",
   "pygments_lexer": "ipython3",
   "version": "3.6.3"
  }
 },
 "nbformat": 4,
 "nbformat_minor": 2
}
