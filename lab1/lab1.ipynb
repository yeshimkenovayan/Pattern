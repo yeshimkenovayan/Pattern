{
 "cells": [
  {
   "cell_type": "code",
   "execution_count": 1,
   "metadata": {},
   "outputs": [
    {
     "name": "stdout",
     "output_type": "stream",
     "text": [
      "52 11 66 48 2\n",
      "[52, 11, 66, 48, 2]\n",
      "3\n",
      "[2, 11, 48, 52, 66]\n",
      "166\n"
     ]
    }
   ],
   "source": [
    "array = input().split()\n",
    "l = len(array)\n",
    "for i in range(l):\n",
    "    array[i] = int(array[i])\n",
    "print(array)\n",
    "t = int(input())\n",
    "array.sort()\n",
    "print(array)\n",
    "s = len(array)\n",
    "out = 0\n",
    "for i in range(t):\n",
    "    out = out + array[s-1]\n",
    "    s = s - 1\n",
    "print(out)"
   ]
  },
  {
   "cell_type": "code",
   "execution_count": null,
   "metadata": {
    "collapsed": true
   },
   "outputs": [],
   "source": []
  }
 ],
 "metadata": {
  "kernelspec": {
   "display_name": "Python 3",
   "language": "python",
   "name": "python3"
  },
  "language_info": {
   "codemirror_mode": {
    "name": "ipython",
    "version": 3
   },
   "file_extension": ".py",
   "mimetype": "text/x-python",
   "name": "python",
   "nbconvert_exporter": "python",
   "pygments_lexer": "ipython3",
   "version": "3.6.3"
  }
 },
 "nbformat": 4,
 "nbformat_minor": 2
}
